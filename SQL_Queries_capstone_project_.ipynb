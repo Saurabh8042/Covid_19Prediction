{
  "cells": [
    {
      "cell_type": "markdown",
      "id": "87dc9564",
      "metadata": {
        "id": "87dc9564"
      },
      "source": [
        "### Name : Saurabh Pandey\n",
        "### S.ID    : S996\n",
        "### SQL Queries using PyMySQL"
      ]
    },
    {
      "cell_type": "code",
      "execution_count": null,
      "id": "74b6fdd8",
      "metadata": {
        "id": "74b6fdd8",
        "colab": {
          "base_uri": "https://localhost:8080/",
          "height": 467
        },
        "outputId": "c9f4dffc-7f21-4613-a20f-9b99651343e2"
      },
      "outputs": [
        {
          "output_type": "stream",
          "name": "stdout",
          "text": [
            "Looking in indexes: https://pypi.org/simple, https://us-python.pkg.dev/colab-wheels/public/simple/\n",
            "Requirement already satisfied: pymysql in /usr/local/lib/python3.9/dist-packages (1.0.3)\n"
          ]
        },
        {
          "output_type": "error",
          "ename": "OperationalError",
          "evalue": "ignored",
          "traceback": [
            "\u001b[0;31m---------------------------------------------------------------------------\u001b[0m",
            "\u001b[0;31mOSError\u001b[0m                                   Traceback (most recent call last)",
            "\u001b[0;32m/usr/local/lib/python3.9/dist-packages/pymysql/connections.py\u001b[0m in \u001b[0;36mconnect\u001b[0;34m(self, sock)\u001b[0m\n\u001b[1;32m    615\u001b[0m                         \u001b[0;32mtry\u001b[0m\u001b[0;34m:\u001b[0m\u001b[0;34m\u001b[0m\u001b[0;34m\u001b[0m\u001b[0m\n\u001b[0;32m--> 616\u001b[0;31m                             sock = socket.create_connection(\n\u001b[0m\u001b[1;32m    617\u001b[0m                                 \u001b[0;34m(\u001b[0m\u001b[0mself\u001b[0m\u001b[0;34m.\u001b[0m\u001b[0mhost\u001b[0m\u001b[0;34m,\u001b[0m \u001b[0mself\u001b[0m\u001b[0;34m.\u001b[0m\u001b[0mport\u001b[0m\u001b[0;34m)\u001b[0m\u001b[0;34m,\u001b[0m \u001b[0mself\u001b[0m\u001b[0;34m.\u001b[0m\u001b[0mconnect_timeout\u001b[0m\u001b[0;34m,\u001b[0m \u001b[0;34m**\u001b[0m\u001b[0mkwargs\u001b[0m\u001b[0;34m\u001b[0m\u001b[0;34m\u001b[0m\u001b[0m\n",
            "\u001b[0;32m/usr/lib/python3.9/socket.py\u001b[0m in \u001b[0;36mcreate_connection\u001b[0;34m(address, timeout, source_address)\u001b[0m\n\u001b[1;32m    843\u001b[0m         \u001b[0;32mtry\u001b[0m\u001b[0;34m:\u001b[0m\u001b[0;34m\u001b[0m\u001b[0;34m\u001b[0m\u001b[0m\n\u001b[0;32m--> 844\u001b[0;31m             \u001b[0;32mraise\u001b[0m \u001b[0merr\u001b[0m\u001b[0;34m\u001b[0m\u001b[0;34m\u001b[0m\u001b[0m\n\u001b[0m\u001b[1;32m    845\u001b[0m         \u001b[0;32mfinally\u001b[0m\u001b[0;34m:\u001b[0m\u001b[0;34m\u001b[0m\u001b[0;34m\u001b[0m\u001b[0m\n",
            "\u001b[0;32m/usr/lib/python3.9/socket.py\u001b[0m in \u001b[0;36mcreate_connection\u001b[0;34m(address, timeout, source_address)\u001b[0m\n\u001b[1;32m    831\u001b[0m                 \u001b[0msock\u001b[0m\u001b[0;34m.\u001b[0m\u001b[0mbind\u001b[0m\u001b[0;34m(\u001b[0m\u001b[0msource_address\u001b[0m\u001b[0;34m)\u001b[0m\u001b[0;34m\u001b[0m\u001b[0;34m\u001b[0m\u001b[0m\n\u001b[0;32m--> 832\u001b[0;31m             \u001b[0msock\u001b[0m\u001b[0;34m.\u001b[0m\u001b[0mconnect\u001b[0m\u001b[0;34m(\u001b[0m\u001b[0msa\u001b[0m\u001b[0;34m)\u001b[0m\u001b[0;34m\u001b[0m\u001b[0;34m\u001b[0m\u001b[0m\n\u001b[0m\u001b[1;32m    833\u001b[0m             \u001b[0;31m# Break explicitly a reference cycle\u001b[0m\u001b[0;34m\u001b[0m\u001b[0;34m\u001b[0m\u001b[0m\n",
            "\u001b[0;31mOSError\u001b[0m: [Errno 99] Cannot assign requested address",
            "\nDuring handling of the above exception, another exception occurred:\n",
            "\u001b[0;31mOperationalError\u001b[0m                          Traceback (most recent call last)",
            "\u001b[0;32m<ipython-input-8-6278b6d033b6>\u001b[0m in \u001b[0;36m<cell line: 5>\u001b[0;34m()\u001b[0m\n\u001b[1;32m      3\u001b[0m \u001b[0;34m\u001b[0m\u001b[0m\n\u001b[1;32m      4\u001b[0m \u001b[0;31m# Connecting to the MySQL server\u001b[0m\u001b[0;34m\u001b[0m\u001b[0;34m\u001b[0m\u001b[0m\n\u001b[0;32m----> 5\u001b[0;31m \u001b[0mconn\u001b[0m \u001b[0;34m=\u001b[0m \u001b[0mpymysql\u001b[0m\u001b[0;34m.\u001b[0m\u001b[0mconnect\u001b[0m\u001b[0;34m(\u001b[0m\u001b[0mhost\u001b[0m\u001b[0;34m=\u001b[0m\u001b[0;34m\"localhost\"\u001b[0m\u001b[0;34m,\u001b[0m\u001b[0muser\u001b[0m\u001b[0;34m=\u001b[0m\u001b[0;34m\"root\"\u001b[0m\u001b[0;34m,\u001b[0m\u001b[0mpassword\u001b[0m\u001b[0;34m=\u001b[0m\u001b[0;34m\"Saur@1234\"\u001b[0m\u001b[0;34m,\u001b[0m\u001b[0mdb\u001b[0m\u001b[0;34m=\u001b[0m\u001b[0;34m\"cleaned_covid\"\u001b[0m\u001b[0;34m)\u001b[0m\u001b[0;34m\u001b[0m\u001b[0;34m\u001b[0m\u001b[0m\n\u001b[0m\u001b[1;32m      6\u001b[0m \u001b[0;34m\u001b[0m\u001b[0m\n\u001b[1;32m      7\u001b[0m \u001b[0mcursor\u001b[0m \u001b[0;34m=\u001b[0m \u001b[0mconn\u001b[0m\u001b[0;34m.\u001b[0m\u001b[0mcursor\u001b[0m\u001b[0;34m(\u001b[0m\u001b[0;34m)\u001b[0m\u001b[0;34m\u001b[0m\u001b[0;34m\u001b[0m\u001b[0m\n",
            "\u001b[0;32m/usr/local/lib/python3.9/dist-packages/pymysql/connections.py\u001b[0m in \u001b[0;36m__init__\u001b[0;34m(self, user, password, host, database, unix_socket, port, charset, sql_mode, read_default_file, conv, use_unicode, client_flag, cursorclass, init_command, connect_timeout, read_default_group, autocommit, local_infile, max_allowed_packet, defer_connect, auth_plugin_map, read_timeout, write_timeout, bind_address, binary_prefix, program_name, server_public_key, ssl, ssl_ca, ssl_cert, ssl_disabled, ssl_key, ssl_verify_cert, ssl_verify_identity, compress, named_pipe, passwd, db)\u001b[0m\n\u001b[1;32m    350\u001b[0m             \u001b[0mself\u001b[0m\u001b[0;34m.\u001b[0m\u001b[0m_sock\u001b[0m \u001b[0;34m=\u001b[0m \u001b[0;32mNone\u001b[0m\u001b[0;34m\u001b[0m\u001b[0;34m\u001b[0m\u001b[0m\n\u001b[1;32m    351\u001b[0m         \u001b[0;32melse\u001b[0m\u001b[0;34m:\u001b[0m\u001b[0;34m\u001b[0m\u001b[0;34m\u001b[0m\u001b[0m\n\u001b[0;32m--> 352\u001b[0;31m             \u001b[0mself\u001b[0m\u001b[0;34m.\u001b[0m\u001b[0mconnect\u001b[0m\u001b[0;34m(\u001b[0m\u001b[0;34m)\u001b[0m\u001b[0;34m\u001b[0m\u001b[0;34m\u001b[0m\u001b[0m\n\u001b[0m\u001b[1;32m    353\u001b[0m \u001b[0;34m\u001b[0m\u001b[0m\n\u001b[1;32m    354\u001b[0m     \u001b[0;32mdef\u001b[0m \u001b[0m__enter__\u001b[0m\u001b[0;34m(\u001b[0m\u001b[0mself\u001b[0m\u001b[0;34m)\u001b[0m\u001b[0;34m:\u001b[0m\u001b[0;34m\u001b[0m\u001b[0;34m\u001b[0m\u001b[0m\n",
            "\u001b[0;32m/usr/local/lib/python3.9/dist-packages/pymysql/connections.py\u001b[0m in \u001b[0;36mconnect\u001b[0;34m(self, sock)\u001b[0m\n\u001b[1;32m    666\u001b[0m                 \u001b[0;32mif\u001b[0m \u001b[0mDEBUG\u001b[0m\u001b[0;34m:\u001b[0m\u001b[0;34m\u001b[0m\u001b[0;34m\u001b[0m\u001b[0m\n\u001b[1;32m    667\u001b[0m                     \u001b[0mprint\u001b[0m\u001b[0;34m(\u001b[0m\u001b[0mexc\u001b[0m\u001b[0;34m.\u001b[0m\u001b[0mtraceback\u001b[0m\u001b[0;34m)\u001b[0m\u001b[0;34m\u001b[0m\u001b[0;34m\u001b[0m\u001b[0m\n\u001b[0;32m--> 668\u001b[0;31m                 \u001b[0;32mraise\u001b[0m \u001b[0mexc\u001b[0m\u001b[0;34m\u001b[0m\u001b[0;34m\u001b[0m\u001b[0m\n\u001b[0m\u001b[1;32m    669\u001b[0m \u001b[0;34m\u001b[0m\u001b[0m\n\u001b[1;32m    670\u001b[0m             \u001b[0;31m# If e is neither DatabaseError or IOError, It's a bug.\u001b[0m\u001b[0;34m\u001b[0m\u001b[0;34m\u001b[0m\u001b[0m\n",
            "\u001b[0;31mOperationalError\u001b[0m: (2003, \"Can't connect to MySQL server on 'localhost' ([Errno 99] Cannot assign requested address)\")"
          ]
        }
      ],
      "source": [
        "!pip install pymysql\n",
        "import pymysql\n",
        "\n",
        "# Connecting to the MySQL server\n",
        "conn = pymysql.connect(host=\"localhost\",user=\"root\",password=\"Pand@2424\",db=\"cleaned_covid\")\n",
        "\n",
        "cursor = conn.cursor()"
      ]
    },
    {
      "cell_type": "code",
      "execution_count": null,
      "id": "029b5a75",
      "metadata": {
        "id": "029b5a75"
      },
      "outputs": [],
      "source": [
        "# Create a database named covid_data\n",
        "sql = \"CREATE DATABASE covid_data\"\n",
        "cursor.execute(sql)"
      ]
    },
    {
      "cell_type": "code",
      "execution_count": null,
      "id": "a8a807a2",
      "metadata": {
        "id": "a8a807a2"
      },
      "outputs": [],
      "source": [
        "# Connect to the database covid\n",
        "\n",
        "connection = pymysql.connect(host='localhost',user='root',password='Govind_Jha1',db='covid_data')\n",
        "cursor = connection.cursor()\n"
      ]
    },
    {
      "cell_type": "code",
      "execution_count": null,
      "id": "fe8e5e0d",
      "metadata": {
        "id": "fe8e5e0d"
      },
      "outputs": [],
      "source": [
        "# Create a table\n",
        "sql = \"CREATE TABLE covid (Ind_ID int,Test_date date,Cough_symptoms varchar(127),Fever varchar(127),Sore_throat varchar(127),Shortness_of_breath varchar(127),Headache varchar(127),Corona varchar(127),Age_60_above varchar(127),Gender varchar(127),Known_contact varchar(127))\"\n",
        "cursor.execute(sql)\n",
        "\n",
        "# Commit the changes to the database\n",
        "connection.commit()\n",
        "\n",
        "# Close the connection\n",
        "connection.close()"
      ]
    },
    {
      "cell_type": "code",
      "execution_count": null,
      "id": "0f15e28f",
      "metadata": {
        "id": "0f15e28f",
        "outputId": "92b9ee49-4c7b-469d-bde9-76ee31de52c0"
      },
      "outputs": [
        {
          "name": "stderr",
          "output_type": "stream",
          "text": [
            "C:\\Users\\exper\\AppData\\Local\\Temp\\ipykernel_3276\\3953132670.py:2: DtypeWarning: Columns (8) have mixed types. Specify dtype option on import or set low_memory=False.\n",
            "  df = pandas.read_csv('D:\\python files, assignment\\covid1.csv')\n"
          ]
        }
      ],
      "source": [
        "import pandas\n",
        "df = pandas.read_csv('D:\\python files, assignment\\covid1.csv')\n"
      ]
    },
    {
      "cell_type": "code",
      "execution_count": null,
      "id": "c9cddac1",
      "metadata": {
        "id": "c9cddac1"
      },
      "outputs": [],
      "source": [
        "conn = pymysql.connect(host='localhost', user='root', password='Govind_Jha1', database='covid_data')\n",
        "cursor = conn.cursor()\n",
        "\n",
        "cols = \",\".join(df.columns)\n",
        "\n",
        "# Iterate over the rows of the dataframe\n",
        "for i, row in df.iterrows():\n",
        "    # Create the values string for the insert statement\n",
        "    values = \",\".join([\"'\" + str(x) + \"'\" for x in row.tolist()])\n",
        "\n",
        "    # Execute the insert statement\n",
        "    sql = \"INSERT INTO covid ({}) VALUES ({})\".format(cols, values)\n",
        "    cursor.execute(sql)\n",
        "    conn.commit()\n",
        "\n",
        "# Close the cursor and connection\n",
        "cursor.close()\n",
        "conn.close()"
      ]
    },
    {
      "cell_type": "markdown",
      "id": "bfa7b982",
      "metadata": {
        "id": "bfa7b982"
      },
      "source": [
        "**Ques 1. Find the number of corona patients who faced shortness of breath.**"
      ]
    },
    {
      "cell_type": "code",
      "execution_count": null,
      "id": "b4026d94",
      "metadata": {
        "id": "b4026d94",
        "outputId": "95b4b8fd-7059-46a8-f97d-9e98f75a1971"
      },
      "outputs": [
        {
          "name": "stdout",
          "output_type": "stream",
          "text": [
            "(1162,)\n"
          ]
        }
      ],
      "source": [
        "connection = pymysql.connect(host='localhost',user='root',password='Govind_Jha1',db='covid_data')\n",
        "\n",
        "cursor = connection.cursor()\n",
        "\n",
        "sql = \"select count(*) from covid where corona = 'positive' and Shortness_of_breath = 'true'\"\n",
        "\n",
        "cursor.execute(sql)\n",
        "\n",
        "results = cursor.fetchall()\n",
        "\n",
        "for row in results:\n",
        "    print(row)\n",
        "\n",
        "# Close the connection when you're done\n",
        "connection.close()\n"
      ]
    },
    {
      "cell_type": "markdown",
      "id": "25a00a3e",
      "metadata": {
        "id": "25a00a3e"
      },
      "source": [
        "\n",
        "**Ques 2. Find the number of negative corona patients who have fever and sore_throat.**\n"
      ]
    },
    {
      "cell_type": "code",
      "execution_count": null,
      "id": "8902895e",
      "metadata": {
        "id": "8902895e",
        "outputId": "13e91411-eba5-42ac-a3b5-6e245e201c4a"
      },
      "outputs": [
        {
          "name": "stdout",
          "output_type": "stream",
          "text": [
            "(121,)\n"
          ]
        }
      ],
      "source": [
        "connection = pymysql.connect(host='localhost',user='root',password='Govind_Jha1',db='covid_data')\n",
        "\n",
        "cursor = connection.cursor()\n",
        "\n",
        "sql = \"select count(*) from covid where corona = 'negative' and Fever = 'true' and Sore_throat = 'true'\"\n",
        "\n",
        "cursor.execute(sql)\n",
        "\n",
        "results = cursor.fetchall()\n",
        "\n",
        "for row in results:\n",
        "    print(row)\n",
        "\n",
        "# Close the connection when you're done\n",
        "connection.close()"
      ]
    },
    {
      "cell_type": "markdown",
      "id": "b90a991a",
      "metadata": {
        "id": "b90a991a"
      },
      "source": [
        "**Ques 3. Group the data by month and rank the number of positive cases.**"
      ]
    },
    {
      "cell_type": "code",
      "execution_count": null,
      "id": "c7354ca6",
      "metadata": {
        "id": "c7354ca6",
        "outputId": "82974208-972d-419f-ba37-d2632bf783f7"
      },
      "outputs": [
        {
          "name": "stdout",
          "output_type": "stream",
          "text": [
            "(4, 8862)\n",
            "(3, 5832)\n"
          ]
        }
      ],
      "source": [
        "connection = pymysql.connect(host='localhost',user='root',password='Govind_Jha1',db='covid_data')\n",
        "\n",
        "cursor = connection.cursor()\n",
        "query = \"SELECT MONTH(Test_date) AS month, COUNT(*) AS positive_cases FROM (select * from covid where corona = 'positive') abc GROUP BY MONTH(Test_date) ORDER BY positive_cases DESC\"\n",
        "cursor.execute(query)\n",
        "\n",
        "results = cursor.fetchall()\n",
        "\n",
        "for row in results:\n",
        "    print(row)\n",
        "\n",
        "# Close the connection when you're done\n",
        "connection.close()"
      ]
    },
    {
      "cell_type": "markdown",
      "id": "76acce1a",
      "metadata": {
        "id": "76acce1a"
      },
      "source": [
        "**Ques 4. Find the female negative corona patients who faced cough and headache.**\n"
      ]
    },
    {
      "cell_type": "code",
      "execution_count": null,
      "id": "1851fd51",
      "metadata": {
        "id": "1851fd51",
        "outputId": "bc353c96-0cc1-47c6-f304-8cbd5a4c296f"
      },
      "outputs": [
        {
          "name": "stdout",
          "output_type": "stream",
          "text": [
            "(13756, datetime.date(2020, 3, 22), 'True', 'True', 'True', 'False', 'True', 'negative', 'No', 'female', 'Abroad')\n",
            "(17289, datetime.date(2020, 3, 22), 'True', 'True', 'True', 'False', 'True', 'negative', 'No', 'female', 'Abroad')\n",
            "(17657, datetime.date(2020, 3, 23), 'True', 'False', 'True', 'False', 'True', 'negative', 'No', 'female', 'Abroad')\n",
            "(19554, datetime.date(2020, 3, 23), 'True', 'True', 'False', 'False', 'True', 'negative', 'No', 'female', 'Other')\n",
            "(19615, datetime.date(2020, 3, 23), 'True', 'False', 'True', 'True', 'True', 'negative', 'No', 'female', 'Contact with confirmed')\n",
            "(20248, datetime.date(2020, 3, 23), 'True', 'True', 'False', 'False', 'True', 'negative', 'Yes', 'female', 'Abroad')\n",
            "(20253, datetime.date(2020, 3, 23), 'True', 'True', 'False', 'False', 'True', 'negative', 'No', 'female', 'Contact with confirmed')\n",
            "(37904, datetime.date(2020, 3, 27), 'True', 'True', 'True', 'True', 'True', 'negative', 'No', 'female', 'Contact with confirmed')\n",
            "(40616, datetime.date(2020, 3, 27), 'True', 'False', 'False', 'True', 'True', 'negative', 'No', 'female', 'Contact with confirmed')\n",
            "(40752, datetime.date(2020, 3, 27), 'True', 'True', 'False', 'False', 'True', 'negative', 'No', 'female', 'Contact with confirmed')\n",
            "(43650, datetime.date(2020, 3, 28), 'True', 'False', 'True', 'True', 'True', 'negative', 'No', 'female', 'Contact with confirmed')\n",
            "(49678, datetime.date(2020, 3, 29), 'True', 'True', 'False', 'False', 'True', 'negative', 'No', 'female', 'Contact with confirmed')\n",
            "(51034, datetime.date(2020, 3, 29), 'True', 'False', 'False', 'False', 'True', 'negative', 'Yes', 'female', 'Contact with confirmed')\n",
            "(52740, datetime.date(2020, 3, 29), 'True', 'True', 'True', 'False', 'True', 'negative', 'No', 'female', 'Contact with confirmed')\n",
            "(57155, datetime.date(2020, 3, 30), 'True', 'False', 'True', 'False', 'True', 'negative', 'No', 'female', 'Abroad')\n",
            "(58101, datetime.date(2020, 3, 30), 'True', 'False', 'True', 'False', 'True', 'negative', 'No', 'female', 'Contact with confirmed')\n",
            "(70026, datetime.date(2020, 4, 1), 'True', 'True', 'False', 'False', 'True', 'negative', 'No', 'female', 'Contact with confirmed')\n",
            "(76125, datetime.date(2020, 4, 1), 'True', 'True', 'True', 'True', 'True', 'negative', 'No', 'female', 'Contact with confirmed')\n",
            "(84586, datetime.date(2020, 4, 3), 'True', 'False', 'True', 'False', 'True', 'negative', 'No', 'female', 'Abroad')\n",
            "(86104, datetime.date(2020, 4, 3), 'True', 'False', 'True', 'True', 'True', 'negative', 'No', 'female', 'Contact with confirmed')\n",
            "(86109, datetime.date(2020, 4, 3), 'True', 'False', 'False', 'True', 'True', 'negative', 'No', 'female', 'Contact with confirmed')\n",
            "(86145, datetime.date(2020, 4, 3), 'True', 'False', 'True', 'True', 'True', 'negative', 'No', 'female', 'Contact with confirmed')\n",
            "(100555, datetime.date(2020, 4, 5), 'True', 'False', 'False', 'False', 'True', 'negative', 'No', 'female', 'Contact with confirmed')\n",
            "(122243, datetime.date(2020, 4, 9), 'True', 'True', 'False', 'True', 'True', 'negative', 'No', 'female', 'Contact with confirmed')\n",
            "(133573, datetime.date(2020, 4, 11), 'True', 'False', 'True', 'True', 'True', 'negative', 'No', 'female', 'Contact with confirmed')\n",
            "(135059, datetime.date(2020, 4, 11), 'True', 'True', 'True', 'False', 'True', 'negative', 'Yes', 'female', 'Abroad')\n",
            "(137748, datetime.date(2020, 4, 12), 'True', 'True', 'True', 'False', 'True', 'negative', 'No', 'female', 'Contact with confirmed')\n",
            "(145561, datetime.date(2020, 4, 13), 'True', 'False', 'False', 'False', 'True', 'negative', 'No', 'female', 'Other')\n",
            "(149178, datetime.date(2020, 4, 13), 'True', 'False', 'False', 'False', 'True', 'negative', 'No', 'female', 'Abroad')\n",
            "(163207, datetime.date(2020, 4, 16), 'True', 'False', 'False', 'False', 'True', 'negative', 'nan', 'female', 'Contact with confirmed')\n",
            "(168703, datetime.date(2020, 4, 16), 'True', 'False', 'True', 'True', 'True', 'negative', 'nan', 'female', 'Contact with confirmed')\n",
            "(244441, datetime.date(2020, 4, 25), 'True', 'False', 'False', 'False', 'True', 'negative', 'nan', 'female', 'Contact with confirmed')\n"
          ]
        }
      ],
      "source": [
        "connection = pymysql.connect(host='localhost',user='root',password='Govind_Jha1',db='covid_data')\n",
        "\n",
        "cursor = connection.cursor()\n",
        "\n",
        "sql = \"select * from covid where corona = 'negative' and Cough_symptoms = 'true' and Headache = 'true' and Gender = 'female'\"\n",
        "\n",
        "cursor.execute(sql)\n",
        "\n",
        "results = cursor.fetchall()\n",
        "\n",
        "for row in results:\n",
        "    print(row)\n",
        "\n",
        "# Close the connection when you're done\n",
        "connection.close()"
      ]
    },
    {
      "cell_type": "markdown",
      "id": "c65b83ab",
      "metadata": {
        "id": "c65b83ab"
      },
      "source": [
        "\n",
        "**Ques 5. How many elderly corona patients have faced breathing problems?**\n"
      ]
    },
    {
      "cell_type": "code",
      "execution_count": null,
      "id": "28b14415",
      "metadata": {
        "id": "28b14415",
        "outputId": "0b693b91-e879-41a4-bba3-0843d4c1912c"
      },
      "outputs": [
        {
          "name": "stdout",
          "output_type": "stream",
          "text": [
            "(262,)\n"
          ]
        }
      ],
      "source": [
        "connection = pymysql.connect(host='localhost',user='root',password='Govind_Jha1',db='covid_data')\n",
        "\n",
        "cursor = connection.cursor()\n",
        "\n",
        "sql = \"select count(*) from covid where corona = 'positive' and  Shortness_of_breath = 'true' and Age_60_above = 'yes'\"\n",
        "\n",
        "cursor.execute(sql)\n",
        "\n",
        "results = cursor.fetchall()\n",
        "\n",
        "for row in results:\n",
        "    print(row)\n",
        "\n",
        "# Close the connection when you're done\n",
        "connection.close()"
      ]
    },
    {
      "cell_type": "markdown",
      "id": "df4e3ffc",
      "metadata": {
        "id": "df4e3ffc"
      },
      "source": [
        "\n",
        "**Ques 6. Which three symptoms were more common among COVID positive patients?**\n"
      ]
    },
    {
      "cell_type": "code",
      "execution_count": null,
      "id": "89e25c28",
      "metadata": {
        "id": "89e25c28",
        "outputId": "925e114e-831e-498e-9ab3-d560ca6e3097"
      },
      "outputs": [
        {
          "name": "stdout",
          "output_type": "stream",
          "text": [
            "('True', 6582)\n",
            "('True', 5558)\n",
            "('True', 2230)\n",
            "('True', 1523)\n",
            "('True', 1162)\n"
          ]
        }
      ],
      "source": [
        "connection = pymysql.connect(host='localhost',user='root',password='Govind_Jha1',db='covid_data')\n",
        "\n",
        "cursor = connection.cursor()\n",
        "\n",
        "sql = \"\"\" select * from (\n",
        "    select cough_symptoms , count(*) as cnt from covid where corona = 'positive' and cough_symptoms ='True'\n",
        "    union all\n",
        "    select  Fever, count(*) as cnt from covid where corona = 'positive' and Fever ='True'\n",
        "    union all\n",
        "    select  Sore_throat, count(*) as cnt from covid where corona = 'positive' and Sore_throat ='True'\n",
        "    union all\n",
        "    select  Shortness_of_breath, count(*) as cnt from covid where corona = 'positive' and Shortness_of_breath ='True'\n",
        "    union all\n",
        "    select  Headache, count(*) as cnt from covid where corona = 'positive' and Headache ='True'\n",
        "   ) abc order by cnt desc\n",
        "\n",
        "\"\"\"\n",
        "cursor.execute(sql)\n",
        "\n",
        "results = cursor.fetchall()\n",
        "\n",
        "for row in results:\n",
        "    print(row)\n",
        "\n",
        "# Close the connection when you're done\n",
        "connection.close()"
      ]
    },
    {
      "cell_type": "markdown",
      "id": "8f88ea7e",
      "metadata": {
        "id": "8f88ea7e"
      },
      "source": [
        "**Top 3 symptoms are Coughness,Fever and Headache are most common symptoms**"
      ]
    },
    {
      "cell_type": "markdown",
      "id": "8a77ceab",
      "metadata": {
        "id": "8a77ceab"
      },
      "source": [
        "\n",
        "# **Ques 7. Which symptom was less common among COVID negative people?**\n"
      ]
    },
    {
      "cell_type": "code",
      "execution_count": null,
      "id": "12a1f9cf",
      "metadata": {
        "id": "12a1f9cf",
        "outputId": "2349dae8-7458-4a92-accc-6938f9e69e80"
      },
      "outputs": [
        {
          "name": "stdout",
          "output_type": "stream",
          "text": [
            "('True', 147)\n",
            "('True', 365)\n",
            "('True', 384)\n",
            "('True', 15816)\n",
            "('True', 34987)\n"
          ]
        }
      ],
      "source": [
        "connection = pymysql.connect(host='localhost',user='root',password='Govind_Jha1',db='covid_data')\n",
        "\n",
        "cursor = connection.cursor()\n",
        "\n",
        "sql = \"\"\" select * from (\n",
        "    select cough_symptoms , count(*) as cnt from covid where corona = 'negative' and cough_symptoms ='True'\n",
        "    union all\n",
        "    select  Fever, count(*) as cnt from covid where corona = 'negative' and Fever ='True'\n",
        "    union all\n",
        "    select  Sore_throat, count(*) as cnt from covid where corona = 'negative' and Sore_throat ='True'\n",
        "    union all\n",
        "    select  Shortness_of_breath, count(*) as cnt from covid where corona = 'negative' and Shortness_of_breath ='True'\n",
        "    union all\n",
        "    select  Headache, count(*) as cnt from covid where corona = 'negative' and Headache ='True'\n",
        "\n",
        "    ) abc order by cnt\n",
        "\"\"\"\n",
        "cursor.execute(sql)\n",
        "\n",
        "results = cursor.fetchall()\n",
        "\n",
        "for row in results:\n",
        "    print(row)\n",
        "\n",
        "# Close the connection when you're done\n",
        "connection.close()"
      ]
    },
    {
      "cell_type": "markdown",
      "id": "d9f18bfa",
      "metadata": {
        "id": "d9f18bfa"
      },
      "source": [
        "**Shortness of breath , Headache and Sore_throat was less common amongst covid negative people**"
      ]
    },
    {
      "cell_type": "markdown",
      "id": "0c13c0f9",
      "metadata": {
        "id": "0c13c0f9"
      },
      "source": [
        "\n",
        "## **Ques 8. What are the most common symptoms among COVID positive males whose known contact was abroad?**"
      ]
    },
    {
      "cell_type": "code",
      "execution_count": null,
      "id": "e15e9720",
      "metadata": {
        "id": "e15e9720",
        "outputId": "20bbe45b-7dc7-4d29-c831-d54138cc0ba8"
      },
      "outputs": [
        {
          "name": "stdout",
          "output_type": "stream",
          "text": [
            "('True', 739)\n",
            "('True', 608)\n",
            "('True', 155)\n",
            "('True', 150)\n",
            "('True', 209)\n"
          ]
        }
      ],
      "source": [
        "connection = pymysql.connect(host='localhost',user='root',password='Govind_Jha1',db='covid_data')\n",
        "\n",
        "cursor = connection.cursor()\n",
        "\n",
        "sql = \"\"\"\n",
        "    select cough_symptoms , count(*) as cnt from covid\n",
        "    where corona = 'positive' and cough_symptoms ='True'\n",
        "    and gender = 'male' and known_contact = 'Abroad'\n",
        "    union all\n",
        "    select  Fever, count(*) as cnt from covid\n",
        "    where corona = 'positive' and Fever ='True'\n",
        "    and gender = 'male' and known_contact = 'Abroad'\n",
        "    union all\n",
        "    select  Sore_throat, count(*) as cnt from covid\n",
        "    where corona = 'positive' and Sore_throat ='True'\n",
        "    and gender = 'male' and known_contact = 'Abroad'\n",
        "    union all\n",
        "    select  Shortness_of_breath, count(*) as cnt from covid\n",
        "    where corona = 'positive' and Shortness_of_breath ='True'\n",
        "    and gender = 'male' and known_contact = 'Abroad'\n",
        "    union all\n",
        "    select  Headache, count(*) as cnt from covid\n",
        "    where corona = 'positive' and Headache ='True'\n",
        "    and gender = 'male' and known_contact = 'Abroad'\n",
        "\n",
        "\n",
        "\"\"\"\n",
        "cursor.execute(sql)\n",
        "\n",
        "results = cursor.fetchall()\n",
        "\n",
        "for row in results:\n",
        "    print(row)\n",
        "\n",
        "# Close the connection when you're done\n",
        "connection.close()"
      ]
    },
    {
      "cell_type": "markdown",
      "id": "b1b48ce0",
      "metadata": {
        "id": "b1b48ce0"
      },
      "source": [
        "**Cough and fever are the most common amongst patient with abroad contact**"
      ]
    },
    {
      "cell_type": "markdown",
      "id": "624aa4c0",
      "metadata": {
        "id": "624aa4c0"
      },
      "source": [
        "## **--Number of positive patients having all the symptoms**"
      ]
    },
    {
      "cell_type": "code",
      "execution_count": null,
      "id": "ebecc31c",
      "metadata": {
        "id": "ebecc31c",
        "outputId": "d85e8357-8956-4e81-b286-422618be0f28"
      },
      "outputs": [
        {
          "name": "stdout",
          "output_type": "stream",
          "text": [
            "(89,)\n"
          ]
        }
      ],
      "source": [
        "connection = pymysql.connect(host='localhost',user='root',password='Govind_Jha1',db='covid_data')\n",
        "\n",
        "cursor = connection.cursor()\n",
        "\n",
        "sql = \"select count(*) from covid where corona = 'positive' and Cough_symptoms = 'true' and Fever = 'true' and Sore_throat = 'true' and  Shortness_of_breath = 'true' and  Headache = 'true' \"\n",
        "\n",
        "cursor.execute(sql)\n",
        "\n",
        "results = cursor.fetchall()\n",
        "\n",
        "for row in results:\n",
        "    print(row)\n",
        "\n",
        "# Close the connection when you're done\n",
        "connection.close()"
      ]
    },
    {
      "cell_type": "markdown",
      "id": "54ec359f",
      "metadata": {
        "id": "54ec359f"
      },
      "source": [
        "## ----Number of negative patients having all the symptoms"
      ]
    },
    {
      "cell_type": "code",
      "execution_count": null,
      "id": "4296be36",
      "metadata": {
        "id": "4296be36",
        "outputId": "ba3e86e8-ae8d-485a-c829-bc4fb2a545e1"
      },
      "outputs": [
        {
          "name": "stdout",
          "output_type": "stream",
          "text": [
            "(4,)\n"
          ]
        }
      ],
      "source": [
        "connection = pymysql.connect(host='localhost',user='root',password='Govind_Jha1',db='covid_data')\n",
        "\n",
        "cursor = connection.cursor()\n",
        "\n",
        "sql = \"select count(*) from covid where corona = 'negative' and Cough_symptoms = 'true' and Fever = 'true' and Sore_throat = 'true' and  Shortness_of_breath = 'true' and  Headache = 'true' \"\n",
        "\n",
        "cursor.execute(sql)\n",
        "\n",
        "results = cursor.fetchall()\n",
        "\n",
        "for row in results:\n",
        "    print(row)\n",
        "\n",
        "# Close the connection when you're done\n",
        "connection.close()"
      ]
    },
    {
      "cell_type": "code",
      "execution_count": null,
      "id": "15c19ffc",
      "metadata": {
        "id": "15c19ffc"
      },
      "outputs": [],
      "source": []
    }
  ],
  "metadata": {
    "kernelspec": {
      "display_name": "Python 3 (ipykernel)",
      "language": "python",
      "name": "python3"
    },
    "language_info": {
      "codemirror_mode": {
        "name": "ipython",
        "version": 3
      },
      "file_extension": ".py",
      "mimetype": "text/x-python",
      "name": "python",
      "nbconvert_exporter": "python",
      "pygments_lexer": "ipython3",
      "version": "3.9.13"
    },
    "colab": {
      "provenance": []
    }
  },
  "nbformat": 4,
  "nbformat_minor": 5
}